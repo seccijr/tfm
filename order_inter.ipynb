{
 "cells": [
  {
   "cell_type": "code",
   "execution_count": 1,
   "id": "significant-purchase",
   "metadata": {},
   "outputs": [],
   "source": [
    "import pandas as pd"
   ]
  },
  {
   "cell_type": "code",
   "execution_count": 5,
   "id": "protected-vermont",
   "metadata": {},
   "outputs": [],
   "source": [
    "df_inter = pd.read_csv('.\\\\models\\\\data\\\\mind_small_dev\\\\mind_small_dev.inter', '\\t')"
   ]
  },
  {
   "cell_type": "code",
   "execution_count": 6,
   "id": "respiratory-livestock",
   "metadata": {},
   "outputs": [
    {
     "data": {
      "text/html": [
       "<div>\n",
       "<style scoped>\n",
       "    .dataframe tbody tr th:only-of-type {\n",
       "        vertical-align: middle;\n",
       "    }\n",
       "\n",
       "    .dataframe tbody tr th {\n",
       "        vertical-align: top;\n",
       "    }\n",
       "\n",
       "    .dataframe thead th {\n",
       "        text-align: right;\n",
       "    }\n",
       "</style>\n",
       "<table border=\"1\" class=\"dataframe\">\n",
       "  <thead>\n",
       "    <tr style=\"text-align: right;\">\n",
       "      <th></th>\n",
       "      <th>user_id:token</th>\n",
       "      <th>item_id:token</th>\n",
       "      <th>label:float</th>\n",
       "      <th>timestamp:float</th>\n",
       "    </tr>\n",
       "  </thead>\n",
       "  <tbody>\n",
       "    <tr>\n",
       "      <th>0</th>\n",
       "      <td>80234</td>\n",
       "      <td>28682</td>\n",
       "      <td>0</td>\n",
       "      <td>1573861070</td>\n",
       "    </tr>\n",
       "    <tr>\n",
       "      <th>1</th>\n",
       "      <td>80234</td>\n",
       "      <td>48740</td>\n",
       "      <td>0</td>\n",
       "      <td>1573861070</td>\n",
       "    </tr>\n",
       "    <tr>\n",
       "      <th>2</th>\n",
       "      <td>80234</td>\n",
       "      <td>31958</td>\n",
       "      <td>1</td>\n",
       "      <td>1573861070</td>\n",
       "    </tr>\n",
       "    <tr>\n",
       "      <th>3</th>\n",
       "      <td>80234</td>\n",
       "      <td>34130</td>\n",
       "      <td>0</td>\n",
       "      <td>1573861070</td>\n",
       "    </tr>\n",
       "    <tr>\n",
       "      <th>4</th>\n",
       "      <td>80234</td>\n",
       "      <td>6916</td>\n",
       "      <td>0</td>\n",
       "      <td>1573861070</td>\n",
       "    </tr>\n",
       "    <tr>\n",
       "      <th>...</th>\n",
       "      <td>...</td>\n",
       "      <td>...</td>\n",
       "      <td>...</td>\n",
       "      <td>...</td>\n",
       "    </tr>\n",
       "    <tr>\n",
       "      <th>2740993</th>\n",
       "      <td>68182</td>\n",
       "      <td>48740</td>\n",
       "      <td>0</td>\n",
       "      <td>1573815274</td>\n",
       "    </tr>\n",
       "    <tr>\n",
       "      <th>2740994</th>\n",
       "      <td>68182</td>\n",
       "      <td>55237</td>\n",
       "      <td>0</td>\n",
       "      <td>1573815274</td>\n",
       "    </tr>\n",
       "    <tr>\n",
       "      <th>2740995</th>\n",
       "      <td>68182</td>\n",
       "      <td>31958</td>\n",
       "      <td>0</td>\n",
       "      <td>1573815274</td>\n",
       "    </tr>\n",
       "    <tr>\n",
       "      <th>2740996</th>\n",
       "      <td>68182</td>\n",
       "      <td>29091</td>\n",
       "      <td>0</td>\n",
       "      <td>1573815274</td>\n",
       "    </tr>\n",
       "    <tr>\n",
       "      <th>2740997</th>\n",
       "      <td>68182</td>\n",
       "      <td>24802</td>\n",
       "      <td>0</td>\n",
       "      <td>1573815274</td>\n",
       "    </tr>\n",
       "  </tbody>\n",
       "</table>\n",
       "<p>2740998 rows × 4 columns</p>\n",
       "</div>"
      ],
      "text/plain": [
       "         user_id:token  item_id:token  label:float  timestamp:float\n",
       "0                80234          28682            0       1573861070\n",
       "1                80234          48740            0       1573861070\n",
       "2                80234          31958            1       1573861070\n",
       "3                80234          34130            0       1573861070\n",
       "4                80234           6916            0       1573861070\n",
       "...                ...            ...          ...              ...\n",
       "2740993          68182          48740            0       1573815274\n",
       "2740994          68182          55237            0       1573815274\n",
       "2740995          68182          31958            0       1573815274\n",
       "2740996          68182          29091            0       1573815274\n",
       "2740997          68182          24802            0       1573815274\n",
       "\n",
       "[2740998 rows x 4 columns]"
      ]
     },
     "execution_count": 6,
     "metadata": {},
     "output_type": "execute_result"
    }
   ],
   "source": [
    "df_inter['label:float']"
   ]
  },
  {
   "cell_type": "code",
   "execution_count": 20,
   "id": "equivalent-antique",
   "metadata": {},
   "outputs": [],
   "source": [
    "df_inter_sorted = df_inter.sort_values(['user_id:token', 'label:float'], ascending=[False, False])"
   ]
  },
  {
   "cell_type": "code",
   "execution_count": 21,
   "id": "capable-reserve",
   "metadata": {},
   "outputs": [],
   "source": [
    "df_inter_sorted.to_csv('.\\\\models\\\\data\\\\mind_small_dev\\\\mind_small_dev.inter.sorted', '\\t', index=False)"
   ]
  },
  {
   "cell_type": "code",
   "execution_count": 17,
   "id": "experienced-charge",
   "metadata": {},
   "outputs": [],
   "source": [
    "df_user = pd.read_csv('.\\\\models\\\\data\\\\mind_small_dev\\\\mind_small_dev.user', '\\t')"
   ]
  },
  {
   "cell_type": "code",
   "execution_count": 25,
   "id": "bigger-reception",
   "metadata": {},
   "outputs": [],
   "source": [
    "df_user_sorted = df_user.sort_values(['user_id:token'], ascending=[False]).drop_duplicates()"
   ]
  },
  {
   "cell_type": "code",
   "execution_count": 27,
   "id": "labeled-database",
   "metadata": {},
   "outputs": [],
   "source": [
    "df_user_sorted.to_csv('.\\\\models\\\\data\\\\mind_small_dev\\\\mind_small_dev.user', '\\t', index=False)"
   ]
  }
 ],
 "metadata": {
  "kernelspec": {
   "display_name": "Python 3",
   "language": "python",
   "name": "python3"
  },
  "language_info": {
   "codemirror_mode": {
    "name": "ipython",
    "version": 3
   },
   "file_extension": ".py",
   "mimetype": "text/x-python",
   "name": "python",
   "nbconvert_exporter": "python",
   "pygments_lexer": "ipython3",
   "version": "3.6.5"
  }
 },
 "nbformat": 4,
 "nbformat_minor": 5
}
