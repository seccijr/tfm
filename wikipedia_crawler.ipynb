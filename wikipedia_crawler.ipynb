{
 "cells": [
  {
   "cell_type": "code",
   "execution_count": null,
   "id": "respiratory-immune",
   "metadata": {},
   "outputs": [],
   "source": [
    "import sys\n",
    "import os\n",
    "import json\n",
    "import re\n",
    "import urllib.request, json"
   ]
  },
  {
   "cell_type": "code",
   "execution_count": null,
   "id": "undefined-scanner",
   "metadata": {},
   "outputs": [],
   "source": [
    "base_url = 'http://www.wikidata.org/entity/'\n",
    "news = open('news-json.tsv', 'r',encoding='utf-8')\n",
    "lines = news.readlines()\n",
    "kg = open('kg.tsv', 'a', encoding='utf-8')\n",
    "item_entity = open('item_entity.tsv', 'a', encoding='utf-8')\n",
    "\n",
    "for line in lines:\n",
    "    try:\n",
    "        print(\"New line...\")\n",
    "        line_tokens = re.split(r'\\t+', line\n",
    "        new_id = line_tokens[0]\n",
    "        title_entities = json.loads(line_tokens[1])\n",
    "        body_entities = json.loads(line_tokens[2])\n",
    "        for entity in title_entities + body_entities:\n",
    "            print(f'{new_id}\\t{entity[\"WikidataId\"]}\\n')\n",
    "            item_entity.write(f'{new_id}\\t{entity[\"WikidataId\"]}\\n')\n",
    "            url = f'{base_url}{entity[\"WikidataId\"]}'\n",
    "            response = urllib.request.urlopen(url)\n",
    "            data = json.loads(response.read())\n",
    "            for property_key in data['entities'][entity['WikidataId']]['claims']:\n",
    "                claims = data['entities'][entity['WikidataId']]['claims'][property_key]\n",
    "                for claim in claims:\n",
    "                    if claim['type'] == 'statement' and claim['mainsnak']['datatype'] == 'wikibase-item' \\\n",
    "                        and claim['mainsnak']['datavalue']['type'] == 'wikibase-entityid':\n",
    "                        print(f'{entity[\"WikidataId\"]}\\t{claim[\"mainsnak\"][\"property\"]}\\t{claim[\"mainsnak\"][\"datavalue\"][\"value\"][\"id\"]}\\n')\n",
    "                        kg.write(f'{entity[\"WikidataId\"]}\\t{claim[\"mainsnak\"][\"property\"]}\\t{claim[\"mainsnak\"][\"datavalue\"][\"value\"][\"id\"]}\\n')\n",
    "    except Exception as e:\n",
    "        print(\"Continuing...\")\n",
    "        continue\n",
    "\n",
    "kg.close()\n",
    "item_entity.close()"
   ]
  },
  {
   "cell_type": "code",
   "execution_count": null,
   "id": "turkish-performer",
   "metadata": {},
   "outputs": [],
   "source": []
  }
 ],
 "metadata": {
  "kernelspec": {
   "display_name": "Python 3",
   "language": "python",
   "name": "python3"
  },
  "language_info": {
   "codemirror_mode": {
    "name": "ipython",
    "version": 3
   },
   "file_extension": ".py",
   "mimetype": "text/x-python",
   "name": "python",
   "nbconvert_exporter": "python",
   "pygments_lexer": "ipython3",
   "version": "3.6.5"
  }
 },
 "nbformat": 4,
 "nbformat_minor": 5
}
