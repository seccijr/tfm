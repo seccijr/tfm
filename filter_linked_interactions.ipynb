{
 "cells": [
  {
   "cell_type": "code",
   "execution_count": 1,
   "id": "japanese-damage",
   "metadata": {},
   "outputs": [],
   "source": [
    "import pandas as pd"
   ]
  },
  {
   "cell_type": "code",
   "execution_count": 24,
   "id": "expanded-island",
   "metadata": {},
   "outputs": [],
   "source": [
    "df_inter = pd.read_csv('data\\\\mind_1M_dev\\\\mind_1M_dev.inter', '\\t')\n",
    "df_item = pd.read_csv('data\\\\mind_1M_dev\\\\mind_small_dev.item', '\\t')\n",
    "df_link = pd.read_csv('data\\\\mind_1M_dev\\\\mind_small_dev.link', '\\t')\n",
    "df_kg = pd.read_csv('data\\\\mind_1M_dev\\\\mind_small_dev.kg', '\\t')"
   ]
  },
  {
   "cell_type": "code",
   "execution_count": 16,
   "id": "fuzzy-think",
   "metadata": {},
   "outputs": [],
   "source": [
    "df_item_filtered = df_item[df_item['item_id:token'].isin(df_inter['item_id:token'])]\n",
    "df_item_filtered.to_csv('data\\\\mind_1M_dev\\\\mind_1M_dev.item', '\\t', index=False)"
   ]
  },
  {
   "cell_type": "code",
   "execution_count": 23,
   "id": "working-correspondence",
   "metadata": {},
   "outputs": [],
   "source": [
    "df_link_filtered = df_link[df_link['entity_id:token'].isin(df_link_filtered['entity_id:token'])]\n",
    "df_link_filtered.to_csv('data\\\\mind_1M_dev\\\\mind_1M_dev.link', '\\t', index=False)"
   ]
  },
  {
   "cell_type": "code",
   "execution_count": 25,
   "id": "featured-colonial",
   "metadata": {},
   "outputs": [],
   "source": [
    "df_kg_filtered = df_kg[df_kg['head_id:token'].isin(df_link_filtered['entity_id:token'])]\n",
    "df_kg_filtered.to_csv('data\\\\mind_1M_dev\\\\mind_1M_dev.kg', '\\t', index=False)"
   ]
  },
  {
   "cell_type": "code",
   "execution_count": null,
   "id": "opposed-ranking",
   "metadata": {},
   "outputs": [],
   "source": []
  }
 ],
 "metadata": {
  "kernelspec": {
   "display_name": "Python 3",
   "language": "python",
   "name": "python3"
  },
  "language_info": {
   "codemirror_mode": {
    "name": "ipython",
    "version": 3
   },
   "file_extension": ".py",
   "mimetype": "text/x-python",
   "name": "python",
   "nbconvert_exporter": "python",
   "pygments_lexer": "ipython3",
   "version": "3.6.5"
  }
 },
 "nbformat": 4,
 "nbformat_minor": 5
}
